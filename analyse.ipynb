{
 "cells": [
  {
   "cell_type": "markdown",
   "metadata": {},
   "source": [
    "https://pandas.pydata.org/docs/user_guide/style.html"
   ]
  },
  {
   "cell_type": "markdown",
   "metadata": {},
   "source": [
    "# Analysis of reproducibility\n",
    "### Solène Lemonnier & Pauline Roches\n",
    "\n",
    "This project is based on the paper \"[COVID and Home Advantage in Football: An Analysis of Results and xG Data in European Leagues](https://blog.mathieuacher.com/FootballAnalysis-xG-COVIDHome/)\" by Mathieu Acher. This study was published on May 23, 2021. "
   ]
  },
  {
   "cell_type": "markdown",
   "metadata": {},
   "source": [
    "## Analysis of the study"
   ]
  },
  {
   "cell_type": "markdown",
   "metadata": {},
   "source": [
    "After reviewing the study, we were able to outline the context and understand its stakes. The goal of the study is to assess the impact of playing at home considering the presence of supporters in a football stadium. The initial hypothesis is that their presence has a positive effect on team performance, both in terms of points and goals scored, as well as in relation to expected points and goals.\\\n",
    "\\\n",
    "The COVID-19 pandemic provided data that allowed for comparisons between matches played in empty and filled stadiums. However, it is important to note that the impact extended beyond the spectators and also affected the teams themselves, potentially disrupting training sessions or sidelining players due to illness.\\\n",
    "\\\n",
    "To conduct this analysis, six European football leagues were studied from 2014 to 2021. It is worth noting that the crisis was managed differently across leagues, which makes comparisons between them more challenging.\n",
    "\n",
    "\n"
   ]
  },
  {
   "cell_type": "markdown",
   "metadata": {},
   "source": [
    "### Methodology \n",
    "\n",
    "The data were sourced from the website \"[Understat](https://understat.com/)\". The variables used include the number of matches, goals, expected goals (xG), expected goals conceded (xGA), points, and expected points (xPoints).\\\n",
    "\\\n",
    "To analyze the data, the following methods were used : \n",
    "- The **Wilcoxon signed-rank test** : a non-parametric test used to compare two paired sets of values, often before and after a treatment. The aim is to determine whether the two measurements are significantly different without assuming a specific distribution for the differences. From this test, the **p-value** is derived (the probability of observing results as extreme as those in the sample, under the null hypothesis that there is no effect or difference. If the p-value is small (<0.05), the null hypothesis is rejected, indicating an effect).\n",
    "- The **Cohen's d** : a measure of effect size, used to determine if an observed difference between two groups is practically significant, beyond just statistical significance.\n",
    "- The **Mann-Whitney U test** : a non-parametric test used to compare two independent groups to assess whether their distributions differ significantly."
   ]
  },
  {
   "cell_type": "markdown",
   "metadata": {},
   "source": [
    "### Key findings\n",
    "\n",
    "The study observed that, generally, there is a notable advantage in terms of points gained when playing at home. However, during the COVID-19 seasons, this advantage diminished significantly or even reversed."
   ]
  },
  {
   "cell_type": "markdown",
   "metadata": {},
   "source": [
    "## Reproduction of the study"
   ]
  },
  {
   "cell_type": "markdown",
   "metadata": {},
   "source": [
    "### Data collection"
   ]
  },
  {
   "cell_type": "markdown",
   "metadata": {},
   "source": [
    "To begin our data collection process for each league and season, we utilize the [*Understat* Python package](https://understat.readthedocs.io/en/latest/). Understat is a specialized library designed to interact with the statistical data provided by the website *Understat.com*. This package allows us to programmatically fetch and analyze data related to various leagues, seasons, teams, players, and matches."
   ]
  },
  {
   "cell_type": "markdown",
   "metadata": {},
   "source": [
    "### Table"
   ]
  },
  {
   "cell_type": "markdown",
   "metadata": {},
   "source": [
    "We first reproduced the table using `./reproduction/reproduce_diff_points.py`, which allows us to observe the differences in points and xPoints between seasons for all leagues. The resulting graph is `./reproduction/results/diff_points_xpoints.png`."
   ]
  },
  {
   "cell_type": "code",
   "execution_count": 21,
   "metadata": {},
   "outputs": [
    {
     "data": {
      "text/html": [
       "\n",
       "<div style=\"display: flex; justify-content: space-between;\">\n",
       "    <img src=\"reproduction/results/diff_points_xpoints.png\" style=\"max-width: 48%; height: auto;\" />\n",
       "    <img src=\"results_acherm/diff_points_xpoints_acherm.png\" style=\"max-width: 48%; height: 50%;\" />\n",
       "</div>\n"
      ],
      "text/plain": [
       "<IPython.core.display.HTML object>"
      ]
     },
     "metadata": {},
     "output_type": "display_data"
    }
   ],
   "source": [
    "from IPython.display import display, HTML\n",
    "\n",
    "# Créez du code HTML pour afficher les images côte à côte\n",
    "html_code = \"\"\"\n",
    "<div style=\"display: flex; justify-content: space-between;\">\n",
    "    <img src=\"reproduction/results/diff_points_xpoints.png\" style=\"max-width: 48%; height: auto;\" />\n",
    "    <img src=\"results_acherm/diff_points_xpoints_acherm.png\" style=\"max-width: 48%; height: 50%;\" />\n",
    "</div>\n",
    "\"\"\"\n",
    "\n",
    "# Afficher les images côte à côte\n",
    "display(HTML(html_code))\n"
   ]
  },
  {
   "cell_type": "markdown",
   "metadata": {},
   "source": [
    "By comparing our tables (left table) to those of Mathieu Acher (right table), we observe the same results after carefully checking the rounding. Indeed, since xPoints are floats, it is important to ensure that the points are rounded conventionally. By default, they were rounded down.\\\n",
    "\\\n",
    "We just have one year in one league (La Liga, 2019) that does not have the same values than in the work of Mathieu Acher. Indeed, the Diff xPoints is 187 with Understat library instead of 188. It may be caused by the way the package handle the retrieving of data.\\\n",
    "\\\n",
    "We can see a clear home advantage in the different leagues, which diminishes during the COVID period."
   ]
  },
  {
   "cell_type": "markdown",
   "metadata": {},
   "source": [
    "### Graphs"
   ]
  },
  {
   "cell_type": "markdown",
   "metadata": {},
   "source": [
    "We then reproduced the graphs using `graphs_par_ligue.py`  which allows us to observe the evolution of points earned and expected points both at home and away for all leagues from 2014 to 2020. The outputs are stored in the `evolutions_par_ligue` folder, with one graph per league."
   ]
  },
  {
   "cell_type": "code",
   "execution_count": 4,
   "metadata": {},
   "outputs": [
    {
     "data": {
      "text/html": [
       "\n",
       "<div style=\"display: flex; justify-content: space-between; flex-wrap: wrap;\">\n",
       "\n",
       "    <!-- Bundesliga -->\n",
       "    <div style=\"display: flex; flex-direction: row; align-items: center; justify-content: space-between; margin-bottom: 20px\">\n",
       "        <img src=\"./reproduction/results/evolutions_par_ligue/evolution_points_Bundesliga.png\" width=\"45%\" />\n",
       "        <img src=\"./results_acherm/evolutions_par_ligue_acherm/evolution_points_Bundesliga_acherm.png\" width=\"40%\" />\n",
       "    </div>\n",
       "\n",
       "    <!-- EPL -->\n",
       "    <div style=\"display: flex; flex-direction: row; align-items: center; justify-content: space-between; margin-bottom: 20px\">\n",
       "        <img src=\"./reproduction/results/evolutions_par_ligue/evolution_points_EPL.png\" width=\"45%\" />\n",
       "        <img src=\"./results_acherm/evolutions_par_ligue_acherm/evolution_points_EPL_acherm.png\" width=\"40%\" />\n",
       "    </div>\n",
       "\n",
       "    <!-- La liga -->\n",
       "    <div style=\"display: flex; flex-direction: row; align-items: center; justify-content: space-between; margin-bottom: 20px\">\n",
       "        <img src=\"./reproduction/results/evolutions_par_ligue/evolution_points_La_liga.png\" width=\"45%\" />\n",
       "        <img src=\"./results_acherm/evolutions_par_ligue_acherm/evolution_points_La_liga_acherm.png\" width=\"40%\" />\n",
       "    </div>\n",
       "\n",
       "    <!-- Ligue 1 -->\n",
       "    <div style=\"display: flex; flex-direction: row; align-items: center; justify-content: space-between; margin-bottom: 20px\">\n",
       "        <img src=\"./reproduction/results/evolutions_par_ligue/evolution_points_Ligue_1.png\" width=\"45%\" />\n",
       "        <img src=\"./results_acherm/evolutions_par_ligue_acherm/evolution_points_Ligue_1_acherm.png\" width=\"40%\" />\n",
       "    </div>\n",
       "\n",
       "    <!-- RFPL -->\n",
       "    <div style=\"display: flex; flex-direction: row; align-items: center; justify-content: space-between; margin-bottom: 20px\">\n",
       "        <img src=\"./reproduction/results/evolutions_par_ligue/evolution_points_RFPL.png\" width=\"45%\" />\n",
       "        <img src=\"./results_acherm/evolutions_par_ligue_acherm/evolution_points_RFPL_acherm.png\" width=\"40%\" />\n",
       "    </div>\n",
       "\n",
       "    <!-- Serie A -->\n",
       "    <div style=\"display: flex; flex-direction: row; align-items: center; justify-content: space-between; margin-bottom: 20px\">\n",
       "        <img src=\"./reproduction/results/evolutions_par_ligue/evolution_points_Serie_A.png\" width=\"45%\" />\n",
       "        <img src=\"./results_acherm/evolutions_par_ligue_acherm/evolution_points_Serie_A_acherm.png\" width=\"40%\" />\n",
       "    </div>\n",
       "\n",
       "</div>\n"
      ],
      "text/plain": [
       "<IPython.core.display.HTML object>"
      ]
     },
     "metadata": {},
     "output_type": "display_data"
    }
   ],
   "source": [
    "from IPython.display import display, HTML\n",
    "\n",
    "# Créer du code HTML pour afficher les images côte à côte sur une même ligne\n",
    "html_code = \"\"\"\n",
    "<div style=\"display: flex; justify-content: space-between; flex-wrap: wrap;\">\n",
    "\n",
    "    <!-- Bundesliga -->\n",
    "    <div style=\"display: flex; flex-direction: row; align-items: center; justify-content: space-between; margin-bottom: 20px\">\n",
    "        <img src=\"./reproduction/results/evolutions_par_ligue/evolution_points_Bundesliga.png\" width=\"45%\" />\n",
    "        <img src=\"./results_acherm/evolutions_par_ligue_acherm/evolution_points_Bundesliga_acherm.png\" width=\"40%\" />\n",
    "    </div>\n",
    "\n",
    "    <!-- EPL -->\n",
    "    <div style=\"display: flex; flex-direction: row; align-items: center; justify-content: space-between; margin-bottom: 20px\">\n",
    "        <img src=\"./reproduction/results/evolutions_par_ligue/evolution_points_EPL.png\" width=\"45%\" />\n",
    "        <img src=\"./results_acherm/evolutions_par_ligue_acherm/evolution_points_EPL_acherm.png\" width=\"40%\" />\n",
    "    </div>\n",
    "\n",
    "    <!-- La liga -->\n",
    "    <div style=\"display: flex; flex-direction: row; align-items: center; justify-content: space-between; margin-bottom: 20px\">\n",
    "        <img src=\"./reproduction/results/evolutions_par_ligue/evolution_points_La_liga.png\" width=\"45%\" />\n",
    "        <img src=\"./results_acherm/evolutions_par_ligue_acherm/evolution_points_La_liga_acherm.png\" width=\"40%\" />\n",
    "    </div>\n",
    "\n",
    "    <!-- Ligue 1 -->\n",
    "    <div style=\"display: flex; flex-direction: row; align-items: center; justify-content: space-between; margin-bottom: 20px\">\n",
    "        <img src=\"./reproduction/results/evolutions_par_ligue/evolution_points_Ligue_1.png\" width=\"45%\" />\n",
    "        <img src=\"./results_acherm/evolutions_par_ligue_acherm/evolution_points_Ligue_1_acherm.png\" width=\"40%\" />\n",
    "    </div>\n",
    "\n",
    "    <!-- RFPL -->\n",
    "    <div style=\"display: flex; flex-direction: row; align-items: center; justify-content: space-between; margin-bottom: 20px\">\n",
    "        <img src=\"./reproduction/results/evolutions_par_ligue/evolution_points_RFPL.png\" width=\"45%\" />\n",
    "        <img src=\"./results_acherm/evolutions_par_ligue_acherm/evolution_points_RFPL_acherm.png\" width=\"40%\" />\n",
    "    </div>\n",
    "\n",
    "    <!-- Serie A -->\n",
    "    <div style=\"display: flex; flex-direction: row; align-items: center; justify-content: space-between; margin-bottom: 20px\">\n",
    "        <img src=\"./reproduction/results/evolutions_par_ligue/evolution_points_Serie_A.png\" width=\"45%\" />\n",
    "        <img src=\"./results_acherm/evolutions_par_ligue_acherm/evolution_points_Serie_A_acherm.png\" width=\"40%\" />\n",
    "    </div>\n",
    "\n",
    "</div>\n",
    "\"\"\"\n",
    "\n",
    "# Afficher les images côte à côte\n",
    "display(HTML(html_code))\n"
   ]
  },
  {
   "cell_type": "markdown",
   "metadata": {},
   "source": [
    "By comparing our tables (left table) to those of Mathieu Acher (right table), we observe the same averages and, therefore, the same variations. The curves from the left and right tables are identical.\\\n",
    "\\\n",
    "The loss of the home advantage is particularly noticeable during the COVID seasons."
   ]
  },
  {
   "cell_type": "markdown",
   "metadata": {},
   "source": [
    "### Statistical tests"
   ]
  },
  {
   "cell_type": "markdown",
   "metadata": {},
   "source": [
    "#### Non-parametrical Wilcoxon Signed-Rank test "
   ]
  },
  {
   "cell_type": "markdown",
   "metadata": {},
   "source": [
    "We reproduced the Wilcoxon test with the function *wilcoxon* from the python library and the Cohen's d with a function that we made by ourselves. The code is done in the `wilcoxon_with_understat.py` and the results are saved in the file `reproduction_wilcoxon.png`."
   ]
  },
  {
   "cell_type": "code",
   "execution_count": 3,
   "metadata": {},
   "outputs": [
    {
     "data": {
      "text/html": [
       "\n",
       "<img src=\"reproduction/results/reproduction_wilcoxon.png\" style=\"height: auto;\" />\n"
      ],
      "text/plain": [
       "<IPython.core.display.HTML object>"
      ]
     },
     "metadata": {},
     "output_type": "display_data"
    },
    {
     "data": {
      "text/html": [
       "\n",
       "<img src=\"results_acherm/result-sTest-Wilco.png\" style=\"height: auto;\" />\n"
      ],
      "text/plain": [
       "<IPython.core.display.HTML object>"
      ]
     },
     "metadata": {},
     "output_type": "display_data"
    }
   ],
   "source": [
    "from IPython.display import display, HTML\n",
    "\n",
    "# Créez du code HTML pour afficher les images côte à côte\n",
    "html_code = \"\"\"\n",
    "<img src=\"reproduction/results/reproduction_wilcoxon.png\" style=\"height: auto;\" />\n",
    "\"\"\"\n",
    "\n",
    "# Afficher les images côte à côte\n",
    "display(HTML(html_code))\n",
    "\n",
    "# Créez du code HTML pour afficher les images côte à côte\n",
    "html_code_img = \"\"\"\n",
    "<img src=\"results_acherm/result-sTest-Wilco.png\" style=\"height: auto;\" />\n",
    "\"\"\"\n",
    "\n",
    "# Afficher les images côte à côte\n",
    "display(HTML(html_code_img))"
   ]
  },
  {
   "cell_type": "markdown",
   "metadata": {},
   "source": [
    "By comparing our results (first table) with the results of the study (second table), we can observe the same results for the wilcoxon test and the cohen's d. "
   ]
  },
  {
   "cell_type": "markdown",
   "metadata": {},
   "source": [
    "## Critères de réplicabilités : \n",
    "- jeu de données : librairie python/scrap ou autre jeu de données\n",
    "- saisons : étendre à 2021-2022-2023\n",
    "- tests statistiques\n",
    "- version de python pour le mann whitney u\n",
    "- tests sur matchs ou équipes"
   ]
  },
  {
   "cell_type": "markdown",
   "metadata": {},
   "source": [
    "## Replication of the study"
   ]
  },
  {
   "cell_type": "markdown",
   "metadata": {},
   "source": [
    "### 1st change - Data collection process : Web Scraping"
   ]
  },
  {
   "cell_type": "markdown",
   "metadata": {},
   "source": [
    "In our initial approach to replicating the data collection process, we opted to use web scraping instead of the Understat library. This method involves directly extracting data from the Understat website. It allows us to tailor the data extraction process as we have a finer control over the data collection."
   ]
  },
  {
   "cell_type": "markdown",
   "metadata": {},
   "source": [
    "We added the `./replicabilite/web_scraping/scrap.py` file, which allows us to retrieve all team data from *2014* to *2022* for both *home* and *away* games. The results are stored in the CSV file `./replicabilite/web_scraping/understat_team_stats_home_away.csv`."
   ]
  },
  {
   "cell_type": "markdown",
   "metadata": {},
   "source": [
    "We first reproduced the table using `./replicabilite/web_scraping/reproduce_diff_points.py`, which allows us to observe the differences in points and xPoints between seasons for all leagues. The resulting graph is `./replicabilite/web_scraping/results/diff_points_xpoints.png`."
   ]
  },
  {
   "cell_type": "code",
   "execution_count": 17,
   "metadata": {},
   "outputs": [
    {
     "data": {
      "text/html": [
       "\n",
       "<div style=\"display: flex; justify-content: space-between;\">\n",
       "    <img src=\"replicabilite/web_scraping/results/diff_points_xpoints.png\" style=\"max-width: 48%; height: auto;\" />\n",
       "    <img src=\"results_acherm/diff_points_xpoints_acherm.png\" style=\"max-width: 48%; height: 50%;\" />\n",
       "</div>\n"
      ],
      "text/plain": [
       "<IPython.core.display.HTML object>"
      ]
     },
     "metadata": {},
     "output_type": "display_data"
    }
   ],
   "source": [
    "from IPython.display import display, HTML\n",
    "\n",
    "# Créez du code HTML pour afficher les images côte à côte\n",
    "html_code = \"\"\"\n",
    "<div style=\"display: flex; justify-content: space-between;\">\n",
    "    <img src=\"replicabilite/web_scraping/results/diff_points_xpoints.png\" style=\"max-width: 48%; height: auto;\" />\n",
    "    <img src=\"results_acherm/diff_points_xpoints_acherm.png\" style=\"max-width: 48%; height: 50%;\" />\n",
    "</div>\n",
    "\"\"\"\n",
    "\n",
    "# Afficher les images côte à côte\n",
    "display(HTML(html_code))\n"
   ]
  },
  {
   "cell_type": "markdown",
   "metadata": {},
   "source": [
    "By comparing our table (left table) to those of Mathieu Acher (right table), we observe the exact same results, nothing is different. But if we compare it with the results we had in our reproduction with another way of data collection, we observe a difference. \n"
   ]
  },
  {
   "cell_type": "markdown",
   "metadata": {},
   "source": [
    "### 2nd change - New statistical method : Repeated Measures ANOVA"
   ]
  },
  {
   "cell_type": "markdown",
   "metadata": {},
   "source": [
    "The Repeated Measures ANOVA (Analysis of Variance) is a statistical method used to evaluate whether there are significant differences in performance metrics across various conditions, such as matches with and without spectators. This method is particularly suitable when the same teams are observed under different conditions, as it accounts for within-subject variability by controlling for differences within the teams themselves.\n",
    "\n",
    "So here, the primary goal is to assess the impact of playing conditions on football team performance, specifically examining differences between home and away matches. This analysis focuses on performance metrics such as points, goals scored, expected goals (xG), and expected goals against (xGA).\n",
    "\n",
    "The method involves the following steps:\n",
    "- Collecting performance data for teams across different seasons.\n",
    "- Applying Repeated Measures ANOVA to determine whether there are statistically significant differences in performance based on playing conditions (home vs. away).\n",
    "- Analyzing results for various leagues and seasons to identify patterns and potential impacts of specific factors, such as the COVID-19 pandemic.\n",
    "\n",
    "The structure of the results includes:\n",
    "- League: The football league being analyzed.\n",
    "- Season: The corresponding season.\n",
    "- anova-F: The F-statistic from the ANOVA test.\n",
    "- anova-pvalue: The p-value associated with the test, indicating statistical significance.\n",
    "- anova-eta-sq: The effect size (eta-squared), representing the magnitude of the observed differences."
   ]
  },
  {
   "cell_type": "code",
   "execution_count": 2,
   "metadata": {},
   "outputs": [
    {
     "data": {
      "text/html": [
       "\n",
       "<img src=\"replicabilite/new_statistical_method/results/reproduction_anova.png\" style=\"height: auto;\" />\n"
      ],
      "text/plain": [
       "<IPython.core.display.HTML object>"
      ]
     },
     "metadata": {},
     "output_type": "display_data"
    }
   ],
   "source": [
    "from IPython.display import display, HTML\n",
    "\n",
    "# Créez du code HTML pour afficher les images côte à côte\n",
    "html_code = \"\"\"\n",
    "<img src=\"replicabilite/new_statistical_method/results/reproduction_anova.png\" style=\"height: auto;\" />\n",
    "\"\"\"\n",
    "\n",
    "# Afficher les images côte à côte\n",
    "display(HTML(html_code))"
   ]
  },
  {
   "cell_type": "markdown",
   "metadata": {},
   "source": [
    "\n",
    "#### Findings from the Analysis:\n",
    "\n",
    "The results of the ANOVA across several major European football leagues from 2014 to 2020 reveal important insights into the home advantage and its variability over time.\n",
    "\n",
    "Ligue 1:\n",
    "Most seasons show statistically significant differences between home and away performances (p-value < 0.05). However, the 2020 season is an outlier with a p-value of 0.9529, indicating no significant difference. This suggests that home advantage was negligible in 2020, likely due to the absence of spectators caused by the pandemic.\n",
    "\n",
    "La Liga:\n",
    "Every season exhibits significant differences, with all p-values below 0.05, suggesting a consistent home advantage. Even in 2020, despite pandemic-related disruptions, the differences remained significant, implying that home advantage persisted.\n",
    "\n",
    "English Premier League (EPL):\n",
    "All seasons except 2020 show significant differences. The 2020 season has a p-value of 0.6022, indicating no significant difference. This suggests the pandemic had a strong impact, reducing the home advantage.\n",
    "\n",
    "Bundesliga:\n",
    "Significant differences are observed in all seasons except for 2019 and 2020, with p-values of 0.6049 and 0.0276 respectively. The lack of significance in 2019 suggests variability even before the pandemic, while 2020 results highlight the pandemic's effect.\n",
    "\n",
    "Serie A:\n",
    "Significant differences are found in all seasons except 2019 (p = 0.2219) and 2020 (p = 0.1086). This indicates that home advantage was not significant in these years, especially during the pandemic.\n",
    "\n",
    "Russian Premier League (RFPL):\n",
    "Several seasons, including 2015, 2017, 2019, and 2020, show no significant differences. This variability suggests that the home advantage fluctuated, with the pandemic further diminishing it in 2020.\n",
    "\n",
    "#### Conclusion with that new statistical method :\n",
    "The analysis demonstrates that the impact of COVID-19 on home advantage was not uniform across all leagues. Some leagues, like La Liga, maintained significant differences even during the pandemic. However, others, such as Serie A, RFPL, and the Bundesliga, exhibited a clear reduction in home advantage in 2020. The presence of non-significant results in 2019 for some leagues suggests that home advantage can vary for reasons beyond the pandemic. Nevertheless, the data indicates that COVID-19 had a substantial impact on football matches in 2020, neutralizing the traditional home advantage in several cases.\n",
    "\n",
    "While the new findings largely support the previous conclusion that home advantage diminished during the COVID-19 seasons, they also introduce important nuances. The previous observation suggested a general trend of reduced home advantage across the board, but the current analysis reveals that this was not uniformly the case for all leagues. For example, La Liga maintained significant differences in home and away performances even in 2020, suggesting that the impact of the pandemic on home advantage was not as pronounced there. This nuanced view indicates that while the pandemic did influence home advantage in many leagues, the extent of its impact varied, highlighting league-specific factors and suggesting that the generalization of diminished home advantage might need reconsideration."
   ]
  },
  {
   "cell_type": "markdown",
   "metadata": {},
   "source": [
    "### 3rd change -"
   ]
  }
 ],
 "metadata": {
  "kernelspec": {
   "display_name": "Python 3",
   "language": "python",
   "name": "python3"
  },
  "language_info": {
   "codemirror_mode": {
    "name": "ipython",
    "version": 3
   },
   "file_extension": ".py",
   "mimetype": "text/x-python",
   "name": "python",
   "nbconvert_exporter": "python",
   "pygments_lexer": "ipython3",
   "version": "3.10.12"
  }
 },
 "nbformat": 4,
 "nbformat_minor": 2
}
