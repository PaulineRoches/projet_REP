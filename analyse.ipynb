{
 "cells": [
  {
   "cell_type": "markdown",
   "metadata": {},
   "source": [
    "# Projet REP\n",
    "### Solène Lemonnier & Pauline Roches\n",
    "\n",
    "Ce projet est basé sur le papier \"[COVID and Home Advantage in Football: An Analysis of Results and xG Data in European Leagues](https://blog.mathieuacher.com/FootballAnalysis-xG-COVIDHome/)\" de Mathieu Acher. Cette étude a été publiée le 23 mai 2021. "
   ]
  },
  {
   "cell_type": "markdown",
   "metadata": {},
   "source": [
    "## Analyse de l'étude"
   ]
  },
  {
   "cell_type": "markdown",
   "metadata": {},
   "source": [
    "Après lecture de l'étude, nous avons pu dresser le contexte et saisir les enjeux. Le but de l'étude est de vérifier l'impact de jouer à domicile au vue de la présence des supporters dans un stade de football. L'hypothèse de départ est que leur présence a un impact positif sur la performance des équipes, que ce soit en termes de points et buts marqués mais aussi par rapport aux points et buts attendus.\\\n",
    "L'évènement du COVID-19 a permis de fournir des données permettant une comparaison entre un stade vide ou non. Il faut cependant souligner que l'immpact n'a pas été que sur les spectateurs mais a aussi touché le sein de l'équipe, notamment en pouvant perturber des entrainements ou avec des joueurs malades.\n",
    "Pour cela, 6 ligues européennes de football ont été étudiées de 2014 à 2021. Il est important de noter que la crise n'a pas été gérée de la même manière par toutes les ligues, ce qui rend la comparaison entre elles plus ardue.\n"
   ]
  }
 ],
 "metadata": {
  "language_info": {
   "name": "python"
  }
 },
 "nbformat": 4,
 "nbformat_minor": 2
}
