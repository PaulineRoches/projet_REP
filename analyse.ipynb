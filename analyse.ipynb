{
 "cells": [
  {
   "cell_type": "markdown",
   "metadata": {},
   "source": [
    "https://pandas.pydata.org/docs/user_guide/style.html"
   ]
  },
  {
   "cell_type": "markdown",
   "metadata": {},
   "source": [
    "# Analysis of reproducibility\n",
    "### Solène Lemonnier & Pauline Roches\n",
    "\n",
    "This project is based on the paper \"[COVID and Home Advantage in Football: An Analysis of Results and xG Data in European Leagues](https://blog.mathieuacher.com/FootballAnalysis-xG-COVIDHome/)\" by Mathieu Acher. This study was published on May 23, 2021. "
   ]
  },
  {
   "cell_type": "markdown",
   "metadata": {},
   "source": [
    "## Analysis of the study"
   ]
  },
  {
   "cell_type": "markdown",
   "metadata": {},
   "source": [
    "After reviewing the study, we were able to outline the context and understand its stakes. The goal of the study is to assess the impact of playing at home considering the presence of supporters in a football stadium. The initial hypothesis is that their presence has a positive effect on team performance, both in terms of points and goals scored, as well as in relation to expected points and goals.\\\n",
    "\\\n",
    "The COVID-19 pandemic provided data that allowed for comparisons between matches played in empty and filled stadiums. However, it is important to note that the impact extended beyond the spectators and also affected the teams themselves, potentially disrupting training sessions or sidelining players due to illness.\\\n",
    "\\\n",
    "To conduct this analysis, six European football leagues were studied from 2014 to 2021. It is worth noting that the crisis was managed differently across leagues, which makes comparisons between them more challenging.\n",
    "\n",
    "\n"
   ]
  },
  {
   "cell_type": "markdown",
   "metadata": {},
   "source": [
    "### Methodology \n",
    "\n",
    "The data were sourced from the website \"[Understat](https://understat.com/)\". The variables used include the number of matches, goals, expected goals (xG), expected goals conceded (xGA), points, and expected points (xPoints).\\\n",
    "\\\n",
    "To analyze the data, the following methods were used : \n",
    "- The **Wilcoxon signed-rank test** : a non-parametric test used to compare two paired sets of values, often before and after a treatment. The aim is to determine whether the two measurements are significantly different without assuming a specific distribution for the differences. From this test, the **p-value** is derived (the probability of observing results as extreme as those in the sample, under the null hypothesis that there is no effect or difference. If the p-value is small (<0.05), the null hypothesis is rejected, indicating an effect).\n",
    "- The **Cohen's d** : a measure of effect size, used to determine if an observed difference between two groups is practically significant, beyond just statistical significance.\n",
    "- The **Mann-Whitney U test** : a non-parametric test used to compare two independent groups to assess whether their distributions differ significantly."
   ]
  },
  {
   "cell_type": "markdown",
   "metadata": {},
   "source": [
    "### Key findings\n",
    "\n",
    "The study observed that, generally, there is a notable advantage in terms of points gained when playing at home. However, during the COVID-19 seasons, this advantage diminished significantly or even reversed."
   ]
  },
  {
   "cell_type": "markdown",
   "metadata": {},
   "source": [
    "## Reproduction of the study"
   ]
  },
  {
   "cell_type": "markdown",
   "metadata": {},
   "source": [
    "### Data collection"
   ]
  },
  {
   "cell_type": "markdown",
   "metadata": {},
   "source": [
    "To begin our data collection process for each league and season, we utilize the [*Understat* Python package](https://understat.readthedocs.io/en/latest/). Understat is a specialized library designed to interact with the statistical data provided by the website *Understat.com*. This package allows us to programmatically fetch and analyze data related to various leagues, seasons, teams, players, and matches."
   ]
  },
  {
   "cell_type": "markdown",
   "metadata": {},
   "source": [
    "### Table"
   ]
  },
  {
   "cell_type": "markdown",
   "metadata": {},
   "source": [
    "We first reproduced the table using `./reproduction/reproduce_diff_points.py`, which allows us to observe the differences in points and xPoints between seasons for all leagues. The resulting graph is `./reproduction/results/diff_points_xpoints.png`."
   ]
  },
  {
   "cell_type": "code",
   "execution_count": 7,
   "metadata": {},
   "outputs": [
    {
     "data": {
      "text/html": [
       "\n",
       "<div style=\"display: flex; justify-content: space-between;\">\n",
       "    <img src=\"reproduction/results/diff_points_xpoints.png\" style=\"max-width: 48%; height: auto;\" />\n",
       "    <img src=\"results_acherm/diff_points_xpoints_acherm.png\" style=\"max-width: 48%; height: 50%;\" />\n",
       "</div>\n"
      ],
      "text/plain": [
       "<IPython.core.display.HTML object>"
      ]
     },
     "metadata": {},
     "output_type": "display_data"
    }
   ],
   "source": [
    "from IPython.display import display, HTML\n",
    "\n",
    "# Créez du code HTML pour afficher les images côte à côte\n",
    "html_code = \"\"\"\n",
    "<div style=\"display: flex; justify-content: space-between;\">\n",
    "    <img src=\"reproduction/results/diff_points_xpoints.png\" style=\"max-width: 48%; height: auto;\" />\n",
    "    <img src=\"results_acherm/diff_points_xpoints_acherm.png\" style=\"max-width: 48%; height: 50%;\" />\n",
    "</div>\n",
    "\"\"\"\n",
    "\n",
    "# Afficher les images côte à côte\n",
    "display(HTML(html_code))\n"
   ]
  },
  {
   "cell_type": "markdown",
   "metadata": {},
   "source": [
    "By comparing our tables (left table) to those of Mathieu Acher (right table), we observe the same results after carefully checking the rounding. Indeed, since xPoints are floats, it is important to ensure that the points are rounded conventionally. By default, they were rounded down.\\\n",
    "\\\n",
    "We just have one year in one league (La Liga, 2019) that does not have the same values than in the work of Mathieu Acher. Indeed, the Diff xPoints is 187 with Understat library instead of 188. It may be caused by the way the package handle the retrieving of data.\\\n",
    "\\\n",
    "We can see a clear home advantage in the different leagues, which diminishes during the COVID period."
   ]
  },
  {
   "cell_type": "markdown",
   "metadata": {},
   "source": [
    "### Graphs"
   ]
  },
  {
   "cell_type": "markdown",
   "metadata": {},
   "source": [
    "We then reproduced the graphs using `graphs_par_ligue.py`  which allows us to observe the evolution of points earned and expected points both at home and away for all leagues from 2014 to 2020. The outputs are stored in the `evolutions_par_ligue` folder, with one graph per league."
   ]
  },
  {
   "cell_type": "code",
   "execution_count": 4,
   "metadata": {},
   "outputs": [
    {
     "data": {
      "text/html": [
       "\n",
       "<div style=\"display: flex; justify-content: space-between; flex-wrap: wrap;\">\n",
       "\n",
       "    <!-- Bundesliga -->\n",
       "    <div style=\"display: flex; flex-direction: row; align-items: center; justify-content: space-between; margin-bottom: 20px\">\n",
       "        <img src=\"./reproduction/results/evolutions_par_ligue/evolution_points_Bundesliga.png\" width=\"45%\" />\n",
       "        <img src=\"./results_acherm/evolutions_par_ligue_acherm/evolution_points_Bundesliga_acherm.png\" width=\"40%\" />\n",
       "    </div>\n",
       "\n",
       "    <!-- EPL -->\n",
       "    <div style=\"display: flex; flex-direction: row; align-items: center; justify-content: space-between; margin-bottom: 20px\">\n",
       "        <img src=\"./reproduction/results/evolutions_par_ligue/evolution_points_EPL.png\" width=\"45%\" />\n",
       "        <img src=\"./results_acherm/evolutions_par_ligue_acherm/evolution_points_EPL_acherm.png\" width=\"40%\" />\n",
       "    </div>\n",
       "\n",
       "    <!-- La liga -->\n",
       "    <div style=\"display: flex; flex-direction: row; align-items: center; justify-content: space-between; margin-bottom: 20px\">\n",
       "        <img src=\"./reproduction/results/evolutions_par_ligue/evolution_points_La_liga.png\" width=\"45%\" />\n",
       "        <img src=\"./results_acherm/evolutions_par_ligue_acherm/evolution_points_La_liga_acherm.png\" width=\"40%\" />\n",
       "    </div>\n",
       "\n",
       "    <!-- Ligue 1 -->\n",
       "    <div style=\"display: flex; flex-direction: row; align-items: center; justify-content: space-between; margin-bottom: 20px\">\n",
       "        <img src=\"./reproduction/results/evolutions_par_ligue/evolution_points_Ligue_1.png\" width=\"45%\" />\n",
       "        <img src=\"./results_acherm/evolutions_par_ligue_acherm/evolution_points_Ligue_1_acherm.png\" width=\"40%\" />\n",
       "    </div>\n",
       "\n",
       "    <!-- RFPL -->\n",
       "    <div style=\"display: flex; flex-direction: row; align-items: center; justify-content: space-between; margin-bottom: 20px\">\n",
       "        <img src=\"./reproduction/results/evolutions_par_ligue/evolution_points_RFPL.png\" width=\"45%\" />\n",
       "        <img src=\"./results_acherm/evolutions_par_ligue_acherm/evolution_points_RFPL_acherm.png\" width=\"40%\" />\n",
       "    </div>\n",
       "\n",
       "    <!-- Serie A -->\n",
       "    <div style=\"display: flex; flex-direction: row; align-items: center; justify-content: space-between; margin-bottom: 20px\">\n",
       "        <img src=\"./reproduction/results/evolutions_par_ligue/evolution_points_Serie_A.png\" width=\"45%\" />\n",
       "        <img src=\"./results_acherm/evolutions_par_ligue_acherm/evolution_points_Serie_A_acherm.png\" width=\"40%\" />\n",
       "    </div>\n",
       "\n",
       "</div>\n"
      ],
      "text/plain": [
       "<IPython.core.display.HTML object>"
      ]
     },
     "metadata": {},
     "output_type": "display_data"
    }
   ],
   "source": [
    "from IPython.display import display, HTML\n",
    "\n",
    "# Créer du code HTML pour afficher les images côte à côte sur une même ligne\n",
    "html_code = \"\"\"\n",
    "<div style=\"display: flex; justify-content: space-between; flex-wrap: wrap;\">\n",
    "\n",
    "    <!-- Bundesliga -->\n",
    "    <div style=\"display: flex; flex-direction: row; align-items: center; justify-content: space-between; margin-bottom: 20px\">\n",
    "        <img src=\"./reproduction/results/evolutions_par_ligue/evolution_points_Bundesliga.png\" width=\"45%\" />\n",
    "        <img src=\"./results_acherm/evolutions_par_ligue_acherm/evolution_points_Bundesliga_acherm.png\" width=\"40%\" />\n",
    "    </div>\n",
    "\n",
    "    <!-- EPL -->\n",
    "    <div style=\"display: flex; flex-direction: row; align-items: center; justify-content: space-between; margin-bottom: 20px\">\n",
    "        <img src=\"./reproduction/results/evolutions_par_ligue/evolution_points_EPL.png\" width=\"45%\" />\n",
    "        <img src=\"./results_acherm/evolutions_par_ligue_acherm/evolution_points_EPL_acherm.png\" width=\"40%\" />\n",
    "    </div>\n",
    "\n",
    "    <!-- La liga -->\n",
    "    <div style=\"display: flex; flex-direction: row; align-items: center; justify-content: space-between; margin-bottom: 20px\">\n",
    "        <img src=\"./reproduction/results/evolutions_par_ligue/evolution_points_La_liga.png\" width=\"45%\" />\n",
    "        <img src=\"./results_acherm/evolutions_par_ligue_acherm/evolution_points_La_liga_acherm.png\" width=\"40%\" />\n",
    "    </div>\n",
    "\n",
    "    <!-- Ligue 1 -->\n",
    "    <div style=\"display: flex; flex-direction: row; align-items: center; justify-content: space-between; margin-bottom: 20px\">\n",
    "        <img src=\"./reproduction/results/evolutions_par_ligue/evolution_points_Ligue_1.png\" width=\"45%\" />\n",
    "        <img src=\"./results_acherm/evolutions_par_ligue_acherm/evolution_points_Ligue_1_acherm.png\" width=\"40%\" />\n",
    "    </div>\n",
    "\n",
    "    <!-- RFPL -->\n",
    "    <div style=\"display: flex; flex-direction: row; align-items: center; justify-content: space-between; margin-bottom: 20px\">\n",
    "        <img src=\"./reproduction/results/evolutions_par_ligue/evolution_points_RFPL.png\" width=\"45%\" />\n",
    "        <img src=\"./results_acherm/evolutions_par_ligue_acherm/evolution_points_RFPL_acherm.png\" width=\"40%\" />\n",
    "    </div>\n",
    "\n",
    "    <!-- Serie A -->\n",
    "    <div style=\"display: flex; flex-direction: row; align-items: center; justify-content: space-between; margin-bottom: 20px\">\n",
    "        <img src=\"./reproduction/results/evolutions_par_ligue/evolution_points_Serie_A.png\" width=\"45%\" />\n",
    "        <img src=\"./results_acherm/evolutions_par_ligue_acherm/evolution_points_Serie_A_acherm.png\" width=\"40%\" />\n",
    "    </div>\n",
    "\n",
    "</div>\n",
    "\"\"\"\n",
    "\n",
    "# Afficher les images côte à côte\n",
    "display(HTML(html_code))\n"
   ]
  },
  {
   "cell_type": "markdown",
   "metadata": {},
   "source": [
    "By comparing our tables (left table) to those of Mathieu Acher (right table), we observe the same averages and, therefore, the same variations. The curves from the left and right tables are identical.\\\n",
    "\\\n",
    "The loss of the home advantage is particularly noticeable during the COVID seasons."
   ]
  },
  {
   "cell_type": "markdown",
   "metadata": {},
   "source": [
    "### Statistical tests"
   ]
  },
  {
   "cell_type": "markdown",
   "metadata": {},
   "source": [
    "## Critères de réplicabilités : \n",
    "- jeu de données : librairie python/scrap ou autre jeu de données\n",
    "- saisons : étendre à 2021-2022-2023\n",
    "- tests statistiques\n",
    "- version de python pour le mann whitney u\n",
    "- tests sur matchs ou équipes"
   ]
  },
  {
   "cell_type": "markdown",
   "metadata": {},
   "source": [
    "## Replication of the study"
   ]
  },
  {
   "cell_type": "markdown",
   "metadata": {},
   "source": [
    "### First change : Web Scraping (Data collection process)"
   ]
  },
  {
   "cell_type": "markdown",
   "metadata": {},
   "source": [
    "In our initial approach to replicating the data collection process, we opted to use web scraping instead of the Understat library. This method involves directly extracting data from the Understat website. It allows us to tailor the data extraction process as we have a finer control over the data collection."
   ]
  },
  {
   "cell_type": "markdown",
   "metadata": {},
   "source": [
    "We added the `./replicabilite/web_scraping/scrap.py` file, which allows us to retrieve all team data from *2014* to *2022* for both *home* and *away* games. The results are stored in the CSV file `./replicabilite/web_scraping/understat_team_stats_home_away.csv`."
   ]
  },
  {
   "cell_type": "markdown",
   "metadata": {},
   "source": [
    "We first reproduced the table using `./replicabilite/web_scraping/reproduce_diff_points.py`, which allows us to observe the differences in points and xPoints between seasons for all leagues. The resulting graph is `./replicabilite/web_scraping/results/diff_points_xpoints.png`."
   ]
  },
  {
   "cell_type": "code",
   "execution_count": 9,
   "metadata": {},
   "outputs": [
    {
     "data": {
      "text/html": [
       "\n",
       "<div style=\"display: flex; justify-content: space-between;\">\n",
       "    <img src=\"replicabilite/web_scraping/results/diff_points_xpoints.png\" style=\"max-width: 48%; height: auto;\" />\n",
       "    <img src=\"results_acherm/diff_points_xpoints_acherm.png\" style=\"max-width: 48%; height: 50%;\" />\n",
       "</div>\n"
      ],
      "text/plain": [
       "<IPython.core.display.HTML object>"
      ]
     },
     "metadata": {},
     "output_type": "display_data"
    }
   ],
   "source": [
    "from IPython.display import display, HTML\n",
    "\n",
    "# Créez du code HTML pour afficher les images côte à côte\n",
    "html_code = \"\"\"\n",
    "<div style=\"display: flex; justify-content: space-between;\">\n",
    "    <img src=\"replicabilite/web_scraping/results/diff_points_xpoints.png\" style=\"max-width: 48%; height: auto;\" />\n",
    "    <img src=\"results_acherm/diff_points_xpoints_acherm.png\" style=\"max-width: 48%; height: 50%;\" />\n",
    "</div>\n",
    "\"\"\"\n",
    "\n",
    "# Afficher les images côte à côte\n",
    "display(HTML(html_code))\n"
   ]
  },
  {
   "cell_type": "markdown",
   "metadata": {},
   "source": [
    "By comparing our table (left table) to those of Mathieu Acher (right table), we observe the exact same results, nothing is different. But if we compare it with the results we had in our reproduction with another way of data collection, we observe a difference. \n"
   ]
  }
 ],
 "metadata": {
  "kernelspec": {
   "display_name": "Python 3",
   "language": "python",
   "name": "python3"
  },
  "language_info": {
   "codemirror_mode": {
    "name": "ipython",
    "version": 3
   },
   "file_extension": ".py",
   "mimetype": "text/x-python",
   "name": "python",
   "nbconvert_exporter": "python",
   "pygments_lexer": "ipython3",
   "version": "3.10.12"
  }
 },
 "nbformat": 4,
 "nbformat_minor": 2
}
