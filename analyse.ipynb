{
 "cells": [
  {
   "cell_type": "markdown",
   "metadata": {},
   "source": [
    "Projet REP \n",
    "\n",
    "Ce projet est basé sur le papier \"COVID and Home Advantage in Football: An Analysis of Results and xG Data in European Leagues\" de Mathieu Acher."
   ]
  }
 ],
 "metadata": {
  "language_info": {
   "name": "python"
  }
 },
 "nbformat": 4,
 "nbformat_minor": 2
}
