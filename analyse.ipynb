{
 "cells": [
  {
   "cell_type": "markdown",
   "metadata": {},
   "source": [
    "https://pandas.pydata.org/docs/user_guide/style.html"
   ]
  },
  {
   "cell_type": "markdown",
   "metadata": {},
   "source": [
    "# Projet REP\n",
    "### Solène Lemonnier & Pauline Roches\n",
    "\n",
    "Ce projet est basé sur le papier \"[COVID and Home Advantage in Football: An Analysis of Results and xG Data in European Leagues](https://blog.mathieuacher.com/FootballAnalysis-xG-COVIDHome/)\" de Mathieu Acher. Cette étude a été publiée le 23 mai 2021. "
   ]
  },
  {
   "cell_type": "markdown",
   "metadata": {},
   "source": [
    "## Analyse de l'étude"
   ]
  },
  {
   "cell_type": "markdown",
   "metadata": {},
   "source": [
    "Après lecture de l'étude, nous avons pu dresser le contexte et saisir les enjeux. Le but de l'étude est de vérifier l'impact de jouer à domicile au vue de la présence des supporters dans un stade de football. L'hypothèse de départ est que leur présence a un impact positif sur la performance des équipes, que ce soit en termes de points et buts marqués mais aussi par rapport aux points et buts attendus.\\\n",
    "\\\n",
    "L'évènement du COVID-19 a permis de fournir des données permettant une comparaison entre un stade vide ou non. Il faut cependant souligner que l'impact n'a pas été que sur les spectateurs mais a aussi touché le sein de l'équipe, notamment en pouvant perturber des entrainements ou avec des joueurs malades.\\\n",
    "\\\n",
    "Pour cela, 6 ligues européennes de football ont été étudiées de 2014 à 2021. Il est important de noter que la crise n'a pas été gérée de la même manière par toutes les ligues, ce qui rend la comparaison entre elles plus ardue.\\\n",
    "\\\n",
    "Au niveau de la méthode : les données sont tirées du site \"[Understat](https://understat.com/)\". On utilise comme données : le nombre de matchs, les buts (goals), les buts attendus (xG), les buts encaissés attendus (xGA) les points (points) et les points attendus.(xPoints).\\\n",
    "\\\n",
    "Pour étudier les données, les méthodes utilisées sont : \n",
    "- le **test non-paramétrique des rangs signés de Wilcoxon** ( utilisé pour comparer deux séries de valeurs appariées (ou liées), généralement avant et après un traitement. Le but du test est de vérifier si ces deux mesures sont réellement différentes sans supposer que les différences suivent une distribution particulière. ) dont on tire la **p-value** ( probabilité d'obtenir des résultats aussi extrêmes que ceux observés dans l'échantillon, sous l'hypothèse nulle qui postule qu'il n'y a pas d'effet ou de différence. Si la p-value est petite (<0,05), alors l'hypothèse nulle est rejetée et on considère qu'il y a un effet ),\n",
    "- le **d de Cohen** ( permet de savoir si une différence observée entre deux groupes est significative en termes de taille, c’est-à-dire si elle a une importance pratique, pas seulement statistique ),\n",
    "- le **test non paramétrique de Mann-Whitney** ( qui permet de comparer deux groupes indépendants pour voir s'ils diffèrent significativement en termes de leur distribution ). \\\n",
    "\\\n",
    "Dans l'étude on remarque qu'en général, il y a un avantage notable en nombre de points gagnés à jouer à domicile, sauf pendant les saisons Covid où cet avantage s'amoindrit voire s'inverse.\n",
    "\n",
    "\n"
   ]
  },
  {
   "cell_type": "markdown",
   "metadata": {},
   "source": [
    "## Reproduction de l'étude"
   ]
  },
  {
   "cell_type": "markdown",
   "metadata": {},
   "source": [
    "Nous commencons par récupérer les données de chaque ligue et de chaque saison à l'aide du scraping."
   ]
  },
  {
   "cell_type": "markdown",
   "metadata": {},
   "source": [
    "Nous avons ajouté le fichier `scrap.py` qui nous permet de récupérer toutes les données des équipes entre *2014* et *2022* at *home* et *away*.  Les résultats sont stockés dans le csv `understat_team_stats_home_away.csv`."
   ]
  },
  {
   "cell_type": "markdown",
   "metadata": {},
   "source": [
    "### Tableau"
   ]
  },
  {
   "cell_type": "markdown",
   "metadata": {},
   "source": [
    "Puis nous avons reproduit le tableau avec `reproduce_diff_points.py` permettant d'observer les différences de points et d'xPoints entre les saisons pour toutes les ligues. Le graphique est `diff_points_xpoints.png`."
   ]
  },
  {
   "cell_type": "code",
   "execution_count": 3,
   "metadata": {},
   "outputs": [
    {
     "data": {
      "text/html": [
       "\n",
       "<div style=\"display: flex; justify-content: space-between;\">\n",
       "    <img src=\"results/diff_points_xpoints.png\" style=\"max-width: 48%; height: auto;\" />\n",
       "    <img src=\"results_achem/diff_points_xpoints_acherm.png\" style=\"max-width: 48%; height: 50%;\" />\n",
       "</div>\n"
      ],
      "text/plain": [
       "<IPython.core.display.HTML object>"
      ]
     },
     "metadata": {},
     "output_type": "display_data"
    }
   ],
   "source": [
    "from IPython.display import display, HTML\n",
    "\n",
    "# Créez du code HTML pour afficher les images côte à côte\n",
    "html_code = \"\"\"\n",
    "<div style=\"display: flex; justify-content: space-between;\">\n",
    "    <img src=\"results/diff_points_xpoints.png\" style=\"max-width: 48%; height: auto;\" />\n",
    "    <img src=\"results_acherm/diff_points_xpoints_acherm.png\" style=\"max-width: 48%; height: 50%;\" />\n",
    "</div>\n",
    "\"\"\"\n",
    "\n",
    "# Afficher les images côte à côte\n",
    "display(HTML(html_code))\n"
   ]
  },
  {
   "cell_type": "markdown",
   "metadata": {},
   "source": [
    "En comparant nos tableaux (tableau de gauche) à ceux de Mathieu Acher (tableau de droite), on observe les mêmes résultats après avoir bien vérifié les arrondis. En effet, les xPoints étant des float, il faut s'assurer que le points soient arrondis classiquement. Par défaut ils étaient arrondis à l'inférieur.\\\n",
    "\\\n",
    "On observe un avantage visible à jouer à domicile dans les différentes ligues. Ce dernier s'attenue pendant le Covid."
   ]
  },
  {
   "cell_type": "markdown",
   "metadata": {},
   "source": [
    "### Graphiques"
   ]
  },
  {
   "cell_type": "markdown",
   "metadata": {},
   "source": [
    "Puis nous avons reproduit les graphiques avec `graphs_par_ligue.py` permettant d'observer l'évolution du nombre de points obtenus et points attendus à domicile et à l'extérieur de points et d'xPoints pour toutes les ligues de 2014 à 2020. Les rendus sont dans le dossier `evolutions_par_ligue`, il y a un graphique par ligue."
   ]
  },
  {
   "cell_type": "code",
   "execution_count": 13,
   "metadata": {},
   "outputs": [
    {
     "data": {
      "text/html": [
       "\n",
       "<div style=\"display: flex; justify-content: space-between; flex-wrap: wrap;\">\n",
       "\n",
       "    <!-- Bundesliga -->\n",
       "    <div style=\"display: flex; flex-direction: row; align-items: center; justify-content: space-between; margin-bottom: 20px\">\n",
       "        <img src=\"./results/evolutions_par_ligue/evolution_points_Bundesliga.png\" width=\"45%\" />\n",
       "        <img src=\"./results_acherm/evolutions_par_ligue_acherm/evolution_points_Bundesliga_acherm.png\" width=\"40%\" />\n",
       "    </div>\n",
       "\n",
       "    <!-- EPL -->\n",
       "    <div style=\"display: flex; flex-direction: row; align-items: center; justify-content: space-between; margin-bottom: 20px\">\n",
       "        <img src=\"./results/evolutions_par_ligue/evolution_points_EPL.png\" width=\"45%\" />\n",
       "        <img src=\"./results_acherm/evolutions_par_ligue_acherm/evolution_points_EPL_acherm.png\" width=\"40%\" />\n",
       "    </div>\n",
       "\n",
       "    <!-- La liga -->\n",
       "    <div style=\"display: flex; flex-direction: row; align-items: center; justify-content: space-between; margin-bottom: 20px\">\n",
       "        <img src=\"./results/evolutions_par_ligue/evolution_points_La_liga.png\" width=\"45%\" />\n",
       "        <img src=\"./results_acherm/evolutions_par_ligue_acherm/evolution_points_La_liga_acherm.png\" width=\"40%\" />\n",
       "    </div>\n",
       "\n",
       "    <!-- Ligue 1 -->\n",
       "    <div style=\"display: flex; flex-direction: row; align-items: center; justify-content: space-between; margin-bottom: 20px\">\n",
       "        <img src=\"./results/evolutions_par_ligue/evolution_points_Ligue_1.png\" width=\"45%\" />\n",
       "        <img src=\"./results_acherm/evolutions_par_ligue_acherm/evolution_points_Ligue_1_acherm.png\" width=\"40%\" />\n",
       "    </div>\n",
       "\n",
       "    <!-- RFPL -->\n",
       "    <div style=\"display: flex; flex-direction: row; align-items: center; justify-content: space-between; margin-bottom: 20px\">\n",
       "        <img src=\"./results/evolutions_par_ligue/evolution_points_RFPL.png\" width=\"45%\" />\n",
       "        <img src=\"./results_acherm/evolutions_par_ligue_acherm/evolution_points_RFPL_acherm.png\" width=\"40%\" />\n",
       "    </div>\n",
       "\n",
       "    <!-- Serie A -->\n",
       "    <div style=\"display: flex; flex-direction: row; align-items: center; justify-content: space-between; margin-bottom: 20px\">\n",
       "        <img src=\"./results/evolutions_par_ligue/evolution_points_Serie_A.png\" width=\"45%\" />\n",
       "        <img src=\"./results_acherm/evolutions_par_ligue_acherm/evolution_points_Serie_A_acherm.png\" width=\"40%\" />\n",
       "    </div>\n",
       "\n",
       "</div>\n"
      ],
      "text/plain": [
       "<IPython.core.display.HTML object>"
      ]
     },
     "metadata": {},
     "output_type": "display_data"
    }
   ],
   "source": [
    "from IPython.display import display, HTML\n",
    "\n",
    "# Créer du code HTML pour afficher les images côte à côte sur une même ligne\n",
    "html_code = \"\"\"\n",
    "<div style=\"display: flex; justify-content: space-between; flex-wrap: wrap;\">\n",
    "\n",
    "    <!-- Bundesliga -->\n",
    "    <div style=\"display: flex; flex-direction: row; align-items: center; justify-content: space-between; margin-bottom: 20px\">\n",
    "        <img src=\"./results/evolutions_par_ligue/evolution_points_Bundesliga.png\" width=\"45%\" />\n",
    "        <img src=\"./results_acherm/evolutions_par_ligue_acherm/evolution_points_Bundesliga_acherm.png\" width=\"40%\" />\n",
    "    </div>\n",
    "\n",
    "    <!-- EPL -->\n",
    "    <div style=\"display: flex; flex-direction: row; align-items: center; justify-content: space-between; margin-bottom: 20px\">\n",
    "        <img src=\"./results/evolutions_par_ligue/evolution_points_EPL.png\" width=\"45%\" />\n",
    "        <img src=\"./results_acherm/evolutions_par_ligue_acherm/evolution_points_EPL_acherm.png\" width=\"40%\" />\n",
    "    </div>\n",
    "\n",
    "    <!-- La liga -->\n",
    "    <div style=\"display: flex; flex-direction: row; align-items: center; justify-content: space-between; margin-bottom: 20px\">\n",
    "        <img src=\"./results/evolutions_par_ligue/evolution_points_La_liga.png\" width=\"45%\" />\n",
    "        <img src=\"./results_acherm/evolutions_par_ligue_acherm/evolution_points_La_liga_acherm.png\" width=\"40%\" />\n",
    "    </div>\n",
    "\n",
    "    <!-- Ligue 1 -->\n",
    "    <div style=\"display: flex; flex-direction: row; align-items: center; justify-content: space-between; margin-bottom: 20px\">\n",
    "        <img src=\"./results/evolutions_par_ligue/evolution_points_Ligue_1.png\" width=\"45%\" />\n",
    "        <img src=\"./results_acherm/evolutions_par_ligue_acherm/evolution_points_Ligue_1_acherm.png\" width=\"40%\" />\n",
    "    </div>\n",
    "\n",
    "    <!-- RFPL -->\n",
    "    <div style=\"display: flex; flex-direction: row; align-items: center; justify-content: space-between; margin-bottom: 20px\">\n",
    "        <img src=\"./results/evolutions_par_ligue/evolution_points_RFPL.png\" width=\"45%\" />\n",
    "        <img src=\"./results_acherm/evolutions_par_ligue_acherm/evolution_points_RFPL_acherm.png\" width=\"40%\" />\n",
    "    </div>\n",
    "\n",
    "    <!-- Serie A -->\n",
    "    <div style=\"display: flex; flex-direction: row; align-items: center; justify-content: space-between; margin-bottom: 20px\">\n",
    "        <img src=\"./results/evolutions_par_ligue/evolution_points_Serie_A.png\" width=\"45%\" />\n",
    "        <img src=\"./results_acherm/evolutions_par_ligue_acherm/evolution_points_Serie_A_acherm.png\" width=\"40%\" />\n",
    "    </div>\n",
    "\n",
    "</div>\n",
    "\"\"\"\n",
    "\n",
    "# Afficher les images côte à côte\n",
    "display(HTML(html_code))\n"
   ]
  },
  {
   "cell_type": "markdown",
   "metadata": {},
   "source": [
    "En comparant nos tableaux (tableau de gauche) à ceux de Mathieu Acher (tableau de droite), on observe les mêmes moyennes et donc les mêmes variations. Les courbes des tableaux de gauche te droite sont donc identiques.\n",
    "\\\n",
    "La perte d'avantage à jouer à domicile est notable pendant les saisons Covid."
   ]
  },
  {
   "cell_type": "markdown",
   "metadata": {},
   "source": [
    "### Test statistiques"
   ]
  }
 ],
 "metadata": {
  "kernelspec": {
   "display_name": "Python 3",
   "language": "python",
   "name": "python3"
  },
  "language_info": {
   "codemirror_mode": {
    "name": "ipython",
    "version": 3
   },
   "file_extension": ".py",
   "mimetype": "text/x-python",
   "name": "python",
   "nbconvert_exporter": "python",
   "pygments_lexer": "ipython3",
   "version": "3.10.12"
  }
 },
 "nbformat": 4,
 "nbformat_minor": 2
}
